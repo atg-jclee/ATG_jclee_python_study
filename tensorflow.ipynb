{
 "cells": [
  {
   "cell_type": "code",
   "execution_count": 5,
   "metadata": {},
   "outputs": [],
   "source": [
    "import tensorflow as tf"
   ]
  },
  {
   "cell_type": "code",
   "execution_count": 7,
   "metadata": {},
   "outputs": [
    {
     "name": "stdout",
     "output_type": "stream",
     "text": [
      "tf.Tensor(b'Hello, Tensorflow!', shape=(), dtype=string)\n",
      "b'Hello, Tensorflow!'\n"
     ]
    }
   ],
   "source": [
    "# Hello World\n",
    "hello = tf.constant('Hello, Tensorflow!')\n",
    "print(hello)\n",
    "print(hello.numpy())"
   ]
  },
  {
   "cell_type": "code",
   "execution_count": 9,
   "metadata": {},
   "outputs": [
    {
     "name": "stdout",
     "output_type": "stream",
     "text": [
      "add =  5\n",
      "sub =  -1\n",
      "mul =  6\n",
      "div =  0.6666666666666666\n"
     ]
    }
   ],
   "source": [
    "# Basic operations\n",
    "a = tf.constant(2)\n",
    "b = tf.constant(3)\n",
    "c = tf.constant(5)\n",
    "\n",
    "add = tf.add(a, b)\n",
    "sub = tf.subtract(a, b)\n",
    "mul = tf.multiply(a, b)\n",
    "div = tf.divide(a, b)\n",
    "\n",
    "print('add = ', add.numpy())\n",
    "print('sub = ', sub.numpy())\n",
    "print('mul = ', mul.numpy())\n",
    "print('div = ', div.numpy())"
   ]
  },
  {
   "cell_type": "code",
   "execution_count": 10,
   "metadata": {},
   "outputs": [
    {
     "name": "stdout",
     "output_type": "stream",
     "text": [
      "mean =  tf.Tensor(3, shape=(), dtype=int32)\n"
     ]
    }
   ],
   "source": [
    "mean = tf.reduce_mean([a, b, c])\n",
    "sum = tf.reduce_sum([a, b, c])\n",
    "\n",
    "print('mean = ', mean.numpy())\n"
   ]
  }
 ],
 "metadata": {
  "kernelspec": {
   "display_name": "jclee",
   "language": "python",
   "name": "python3"
  },
  "language_info": {
   "codemirror_mode": {
    "name": "ipython",
    "version": 3
   },
   "file_extension": ".py",
   "mimetype": "text/x-python",
   "name": "python",
   "nbconvert_exporter": "python",
   "pygments_lexer": "ipython3",
   "version": "3.10.13"
  }
 },
 "nbformat": 4,
 "nbformat_minor": 2
}
