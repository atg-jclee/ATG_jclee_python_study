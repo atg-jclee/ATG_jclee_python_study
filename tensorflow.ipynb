{
 "cells": [
  {
   "cell_type": "markdown",
   "metadata": {},
   "source": [
    "https://github.com/aymericdamien/TensorFlow-Examples/blob/master/tensorflow_v2/README.md   \n",
    "https://wikidocs.net/21669"
   ]
  },
  {
   "cell_type": "markdown",
   "metadata": {},
   "source": [
    "### 지도학습\n",
    "#### 입력데이터와 정답데이터가 주어졌을 때, 이 데이터의 상관관계를 가장 잘 표현하는 함수를 구하는 것\n",
    "  \n",
    "### 비지도학습\n",
    "#### 입력데이터만 주어졌을 때, 모델 스스로 데이터 안에서 어떠한 관계를 찾아내는 것\n",
    "  \n",
    "### 강화학습\n",
    "#### 환경과 상호작용을 하며, 잘한 행동에는 플러스를 잘못한 행동에는 마이너스를 주면서 최적의 행동을 찾는 것\n"
   ]
  },
  {
   "cell_type": "markdown",
   "metadata": {},
   "source": [
    "# 1 - Introduction\n",
    "## Hello Tensorflow"
   ]
  },
  {
   "cell_type": "code",
   "execution_count": 31,
   "metadata": {},
   "outputs": [],
   "source": [
    "import tensorflow as tf"
   ]
  },
  {
   "cell_type": "code",
   "execution_count": 32,
   "metadata": {},
   "outputs": [
    {
     "name": "stdout",
     "output_type": "stream",
     "text": [
      "tf.Tensor(b'Hello, Tensorflow!', shape=(), dtype=string)\n",
      "b'Hello, Tensorflow!'\n"
     ]
    }
   ],
   "source": [
    "hello = tf.constant('Hello, Tensorflow!')\n",
    "print(hello)\n",
    "print(hello.numpy())"
   ]
  },
  {
   "cell_type": "markdown",
   "metadata": {},
   "source": [
    "## Basic operations"
   ]
  },
  {
   "cell_type": "code",
   "execution_count": 33,
   "metadata": {},
   "outputs": [],
   "source": [
    "import tensorflow as tf"
   ]
  },
  {
   "cell_type": "code",
   "execution_count": 34,
   "metadata": {},
   "outputs": [
    {
     "name": "stdout",
     "output_type": "stream",
     "text": [
      "add =  5\n",
      "sub =  -1\n",
      "mul =  6\n",
      "div =  0.6666666666666666\n"
     ]
    }
   ],
   "source": [
    "a = tf.constant(2)\n",
    "b = tf.constant(3)\n",
    "c = tf.constant(5)\n",
    "\n",
    "add = tf.add(a, b)\n",
    "sub = tf.subtract(a, b)\n",
    "mul = tf.multiply(a, b)\n",
    "div = tf.divide(a, b)\n",
    "\n",
    "print('add = ', add.numpy())\n",
    "print('sub = ', sub.numpy())\n",
    "print('mul = ', mul.numpy())\n",
    "print('div = ', div.numpy())"
   ]
  },
  {
   "cell_type": "code",
   "execution_count": 35,
   "metadata": {},
   "outputs": [
    {
     "name": "stdout",
     "output_type": "stream",
     "text": [
      "mean =  3\n",
      "sum =  10\n"
     ]
    }
   ],
   "source": [
    "mean = tf.reduce_mean([a, b, c])\n",
    "sum = tf.reduce_sum([a, b, c])\n",
    "\n",
    "print('mean = ', mean.numpy())\n",
    "print('sum = ', sum.numpy())"
   ]
  },
  {
   "cell_type": "code",
   "execution_count": 36,
   "metadata": {},
   "outputs": [
    {
     "data": {
      "text/plain": [
       "<tf.Tensor: shape=(2, 2), dtype=float32, numpy=\n",
       "array([[19., 22.],\n",
       "       [43., 50.]], dtype=float32)>"
      ]
     },
     "execution_count": 36,
     "metadata": {},
     "output_type": "execute_result"
    }
   ],
   "source": [
    "matrix1 = tf.constant([[1., 2.], [3., 4.]])\n",
    "matrix2 = tf.constant([[5., 6.], [7., 8.]])\n",
    "\n",
    "product = tf.matmul(matrix1, matrix2)\n",
    "product"
   ]
  },
  {
   "cell_type": "code",
   "execution_count": 37,
   "metadata": {},
   "outputs": [
    {
     "data": {
      "text/plain": [
       "array([[19., 22.],\n",
       "       [43., 50.]], dtype=float32)"
      ]
     },
     "execution_count": 37,
     "metadata": {},
     "output_type": "execute_result"
    }
   ],
   "source": [
    "product.numpy()"
   ]
  },
  {
   "cell_type": "markdown",
   "metadata": {},
   "source": [
    "## Basic Models\n",
    "- ### Linear Regression(선형 회귀)\n",
    "    - #### 회귀 분석 : 관찰된 연속형 변수들에 대해 두 변수 사이의 모형을 구한 뒤 적합도를 측정해 내는 분석 방법\n",
    "    - #### 선형 회귀 : $y = Wx + b$\n",
    "        #### 종속 변수 y와 한 개 이상의 독립 변수(또는 설명 변수) X와의 선형 상관 관계를 모델링하는 회귀분석 기법\n",
    "    "
   ]
  },
  {
   "cell_type": "markdown",
   "metadata": {},
   "source": [
    "입력값에 가중치를 곱하고 편향을 더하여 결과값을 구하고  \n",
    "정답과의 오차를 MSE(평균제곱오차)으로 구하여 오차가 가장 작은 가중치를 구하는 것이 목표\n",
    "\n",
    "Weight(가중치) : 독립 변수와 곱해지는 값(직선의 기울기), 최초의 가중치는 랜덤한 값을 사용한다.   \n",
    "Bias(편향) : 별도로 더해지는 값(절편)   \n",
    "Mean Squared Error(평균 제곱 오차) : $(정답 - 예측)^2\\over{n}$ 으로 정답에 가까울수록 값이 작아지고 오답에 가까울수록 큰 값이 나온다.   \n",
    "Gradient Descent Algorithm(경사 하강법) : MSE를 미분한 기울기와 학습률을 곱한값만큼 가중치에서 빼는 방식으로 가중치를 변경하는 방식, 기울기가 0에 가장 가까운 \n",
    "Stochastic Gradient Descent(확률적 경사 하강법) : 확률적으로 무작위로 골라낸 데이터에 대해 수행하는 경사 하강법 -> MSE(평균 오차 제곱) 값이 작은 방향으로 Weight와 Bias를 수정"
   ]
  },
  {
   "cell_type": "code",
   "execution_count": 38,
   "metadata": {},
   "outputs": [],
   "source": [
    "import tensorflow as tf\n",
    "import numpy as np\n",
    "rng = np.random"
   ]
  },
  {
   "cell_type": "code",
   "execution_count": 39,
   "metadata": {},
   "outputs": [],
   "source": [
    "# Parameters\n",
    "learning_rate = 0.01\n",
    "training_steps = 1000\n",
    "display_step = 50"
   ]
  },
  {
   "cell_type": "code",
   "execution_count": 40,
   "metadata": {},
   "outputs": [],
   "source": [
    "# Training Data\n",
    "X = np.array([3.3,4.4,5.5,6.71,6.93,4.168,9.779,6.182,7.59,2.167,\n",
    "              7.042,10.791,5.313,7.997,5.654,9.27,3.1])\n",
    "Y = np.array([1.7,2.76,2.09,3.19,1.694,1.573,3.366,2.596,2.53,1.221,\n",
    "              2.827,3.465,1.65,2.904,2.42,2.94,1.3])"
   ]
  },
  {
   "cell_type": "code",
   "execution_count": 41,
   "metadata": {},
   "outputs": [],
   "source": [
    "# Weight and Bias(가중치와 편향) 초기값은 랜덤\n",
    "W = tf.Variable(rng.randn(), name='weight')\n",
    "b = tf.Variable(rng.randn(), name='bias')\n",
    "\n",
    "# 선형 회귀(Wx + b)\n",
    "def linear_regression(x):\n",
    "    return W * x + b\n",
    "\n",
    "# Mean squared error(평균 제곱 오차)\n",
    "def mean_square(y_pred, y_true):\n",
    "    return tf.reduce_mean(tf.square(y_pred - y_true))\n",
    "\n",
    "# Stochastic gradient descent(확률적 경사 하강법)\n",
    "optimizer = tf.optimizers.SGD(learning_rate)"
   ]
  },
  {
   "cell_type": "code",
   "execution_count": 42,
   "metadata": {},
   "outputs": [],
   "source": [
    "# 최적화\n",
    "def run_optimization():\n",
    "    with tf.GradientTape() as g:\n",
    "        pred = linear_regression(X)\n",
    "        loss = mean_square(pred, Y)\n",
    "    # gradients(기울기)\n",
    "    gradients = g.gradient(loss, [W, b])\n",
    "\n",
    "    optimizer.apply_gradients(zip(gradients, [W,b]))"
   ]
  },
  {
   "cell_type": "code",
   "execution_count": 43,
   "metadata": {},
   "outputs": [
    {
     "name": "stdout",
     "output_type": "stream",
     "text": [
      "step: 50, loss: 0.15405608713626862, W: 0.257281631231308, b: 0.7587687969207764\n",
      "step: 100, loss: 0.1540132462978363, W: 0.2566354274749756, b: 0.7633499503135681\n",
      "step: 150, loss: 0.15397967398166656, W: 0.25606319308280945, b: 0.7674068212509155\n",
      "step: 200, loss: 0.15395334362983704, W: 0.25555646419525146, b: 0.7709994316101074\n",
      "step: 250, loss: 0.15393270552158356, W: 0.25510770082473755, b: 0.7741808891296387\n",
      "step: 300, loss: 0.15391650795936584, W: 0.25471028685569763, b: 0.7769983410835266\n",
      "step: 350, loss: 0.15390384197235107, W: 0.25435829162597656, b: 0.7794937491416931\n",
      "step: 400, loss: 0.15389390289783478, W: 0.25404664874076843, b: 0.7817032933235168\n",
      "step: 450, loss: 0.15388606488704681, W: 0.2537706792354584, b: 0.7836598753929138\n",
      "step: 500, loss: 0.15387997031211853, W: 0.2535262703895569, b: 0.7853925228118896\n",
      "step: 550, loss: 0.15387514233589172, W: 0.25330984592437744, b: 0.7869268655776978\n",
      "step: 600, loss: 0.15387138724327087, W: 0.2531181871891022, b: 0.7882856726646423\n",
      "step: 650, loss: 0.15386845171451569, W: 0.25294846296310425, b: 0.7894889116287231\n",
      "step: 700, loss: 0.15386609733104706, W: 0.2527981400489807, b: 0.7905547022819519\n",
      "step: 750, loss: 0.1538643091917038, W: 0.25266504287719727, b: 0.7914983630180359\n",
      "step: 800, loss: 0.153862863779068, W: 0.25254711508750916, b: 0.792334258556366\n",
      "step: 850, loss: 0.15386174619197845, W: 0.25244274735450745, b: 0.7930741906166077\n",
      "step: 900, loss: 0.15386086702346802, W: 0.2523502707481384, b: 0.7937296628952026\n",
      "step: 950, loss: 0.1538601517677307, W: 0.25226840376853943, b: 0.7943102121353149\n",
      "step: 1000, loss: 0.15385961532592773, W: 0.25219589471817017, b: 0.7948241233825684\n"
     ]
    }
   ],
   "source": [
    "for step in range(1, training_steps + 1):\n",
    "    run_optimization()\n",
    "    \n",
    "    if step % display_step == 0:\n",
    "        pred = linear_regression(X)\n",
    "        loss = mean_square(pred, Y)\n",
    "        print(f'step: {step}, loss: {loss}, W: {W.numpy()}, b: {b.numpy()}')"
   ]
  },
  {
   "cell_type": "code",
   "execution_count": 44,
   "metadata": {},
   "outputs": [
    {
     "data": {
      "image/png": "[encoded data removed]",
      "text/plain": [
       "<Figure size 640x480 with 1 Axes>"
      ]
     },
     "metadata": {},
     "output_type": "display_data"
    }
   ],
   "source": [
    "import matplotlib.pyplot as plt\n",
    "\n",
    "plt.plot(X, Y, 'ro', label='Original data')\n",
    "plt.plot(X, np.array(W * X + b), label='Fitted line')\n",
    "plt.legend()\n",
    "plt.show()"
   ]
  },
  {
   "cell_type": "markdown",
   "metadata": {},
   "source": [
    "### Tensorflow 자동 미분과 선형 회귀 실습"
   ]
  },
  {
   "cell_type": "code",
   "execution_count": 45,
   "metadata": {},
   "outputs": [],
   "source": [
    "import tensorflow as tf"
   ]
  },
  {
   "cell_type": "code",
   "execution_count": 46,
   "metadata": {},
   "outputs": [
    {
     "name": "stdout",
     "output_type": "stream",
     "text": [
      "[<tf.Tensor: shape=(), dtype=float32, numpy=8.0>]\n"
     ]
    }
   ],
   "source": [
    "w = tf.Variable(2.)\n",
    "\n",
    "# 2w**2 + 5\n",
    "def f(w):\n",
    "    y = w**2\n",
    "    z = 2*y + 5\n",
    "    return z\n",
    "\n",
    "with tf.GradientTape() as tape:\n",
    "    z = f(w)\n",
    "\n",
    "# 함수를 w에 대해 미분하여 4w를 만들고 w에 2가 들어가서 8이 나오게 된다.\n",
    "gradients = tape.gradient(z, [w])\n",
    "print(gradients)"
   ]
  },
  {
   "cell_type": "code",
   "execution_count": null,
   "metadata": {},
   "outputs": [],
   "source": []
  }
 ],
 "metadata": {
  "kernelspec": {
   "display_name": "jclee",
   "language": "python",
   "name": "python3"
  },
  "language_info": {
   "codemirror_mode": {
    "name": "ipython",
    "version": 3
   },
   "file_extension": ".py",
   "mimetype": "text/x-python",
   "name": "python",
   "nbconvert_exporter": "python",
   "pygments_lexer": "ipython3",
   "version": "3.10.13"
  }
 },
 "nbformat": 4,
 "nbformat_minor": 2
}
