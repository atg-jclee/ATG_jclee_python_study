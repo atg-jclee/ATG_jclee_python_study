{
 "cells": [
  {
   "cell_type": "code",
   "execution_count": null,
   "metadata": {},
   "outputs": [],
   "source": [
    "def main():\n",
    "    print('World!')"
   ]
  },
  {
   "cell_type": "code",
   "execution_count": null,
   "metadata": {},
   "outputs": [],
   "source": [
    "if __name__ == '__main__':\n",
    "    print('Hello')\n",
    "    main()"
   ]
  },
  {
   "cell_type": "code",
   "execution_count": null,
   "metadata": {},
   "outputs": [],
   "source": [
    "3 + 3"
   ]
  },
  {
   "cell_type": "code",
   "execution_count": null,
   "metadata": {},
   "outputs": [],
   "source": [
    "config = {\n",
    "    'a' : 1,\n",
    "    'b' : '1',\n",
    "    'c' : ['1', '2', '3'],\n",
    "    'd' : True\n",
    "}"
   ]
  },
  {
   "cell_type": "code",
   "execution_count": null,
   "metadata": {},
   "outputs": [],
   "source": [
    "abc = config['a']\n",
    "print(abc)\n",
    "\n",
    "print(config['b'])\n",
    "\n",
    "print(config['c'])\n",
    "\n",
    "print(config['d'])"
   ]
  },
  {
   "cell_type": "code",
   "execution_count": null,
   "metadata": {},
   "outputs": [],
   "source": [
    "qwe = config\n",
    "print(qwe['c'])"
   ]
  },
  {
   "cell_type": "code",
   "execution_count": null,
   "metadata": {},
   "outputs": [],
   "source": [
    "config_dict = {\n",
    "    'a' : {\n",
    "        'q' : 1,\n",
    "        'w' : 'w',\n",
    "        'e' : ['1','2','3'],\n",
    "        'r' : True\n",
    "    },\n",
    "    'b' : {\n",
    "        'z' : 1,\n",
    "        'x' : 'x',\n",
    "        'c' : ['1', '2', '3'],\n",
    "        'v' : False\n",
    "    }\n",
    "}"
   ]
  },
  {
   "cell_type": "code",
   "execution_count": null,
   "metadata": {},
   "outputs": [],
   "source": [
    "temp = 'a'\n",
    "asdf = config_dict[temp]\n",
    "print(asdf['e'])"
   ]
  },
  {
   "cell_type": "code",
   "execution_count": null,
   "metadata": {},
   "outputs": [],
   "source": [
    "import traceback\n",
    "class abcException(Exception):\n",
    "    def __init__(self, message):\n",
    "        self.message = message\n",
    "        super().__init__(self.message)\n",
    "\n",
    "try:\n",
    "    while True:\n",
    "        try:\n",
    "            print('test')\n",
    "            raise Exception(\"1\")\n",
    "        except Exception:\n",
    "            print('qwe')\n",
    "            raise\n",
    "        finally:\n",
    "            try:\n",
    "                print('654')\n",
    "                #raise Exception(\"2\")\n",
    "            except Exception:\n",
    "                raise\n",
    "            #print('asdfasdf')\n",
    "        print('qwerqwerqwer')\n",
    "except Exception as e:\n",
    "    print(e)\n",
    "    traceback.print_exc()\n",
    "print('3')"
   ]
  },
  {
   "cell_type": "code",
   "execution_count": 5,
   "metadata": {},
   "outputs": [
    {
     "name": "stdout",
     "output_type": "stream",
     "text": [
      "1\n",
      "2\n",
      "3\n",
      "유량1\n",
      "0\n",
      "4\n",
      "5\n",
      "6\n",
      "유량2\n",
      "0\n",
      "7\n",
      "8\n",
      "9\n",
      "유량2\n",
      "0\n"
     ]
    }
   ],
   "source": [
    "tag_dict = dict()\n",
    "tag_dict['A.ABC.F_CV'] = dict()\n",
    "\n",
    "tag_dict['A.ABC.F_CV']['1'] = {\n",
    "    'PLNT_ID' : 1,\n",
    "    'WKPLC_ID' : 2,\n",
    "    'EQ_ID' : 3,\n",
    "    'ITM' : '유량1',\n",
    "    'TAG_TY' : 0\n",
    "}\n",
    "\n",
    "tag_dict['A.ABC.F_CV']['2'] = {\n",
    "    'PLNT_ID' : 4,\n",
    "    'WKPLC_ID' : 5,\n",
    "    'EQ_ID' : 6,\n",
    "    'ITM' : '유량2',\n",
    "    'TAG_TY' : 0\n",
    "}\n",
    "\n",
    "tag_dict['A.ABC.F_CV']['3'] = {\n",
    "    'PLNT_ID' : 7,\n",
    "    'WKPLC_ID' : 8,\n",
    "    'EQ_ID' : 9,\n",
    "    'ITM' : '유량2',\n",
    "    'TAG_TY' : 0\n",
    "}\n",
    "\n",
    "for k1, d1 in tag_dict.items():\n",
    "    for k2, d2 in d1.items():\n",
    "        print(d2['PLNT_ID'])\n",
    "        print(d2['WKPLC_ID'])\n",
    "        print(d2['EQ_ID'])\n",
    "        print(d2['ITM'])\n",
    "        print(d2['TAG_TY'])"
   ]
  },
  {
   "cell_type": "code",
   "execution_count": 5,
   "metadata": {},
   "outputs": [],
   "source": [
    "import threading\n",
    "\n",
    "def a():\n",
    "    b = 1\n",
    "\n",
    "threads1 = [\n",
    "    threading.Thread(target=a),\n",
    "    threading.Thread(target=a),\n",
    "    threading.Thread(target=a),\n",
    "    threading.Thread(target=a),\n",
    "    threading.Thread(target=a),\n",
    "    threading.Thread(target=a),\n",
    "    threading.Thread(target=a),\n",
    "    threading.Thread(target=a),\n",
    "    threading.Thread(target=a),\n",
    "    threading.Thread(target=a),\n",
    "    ]\n",
    "\n",
    "for thread in threads1:\n",
    "        thread.daemon = True  # 데몬 스레드로 설정하여 메인 스레드 종료 시 함께 종료되도록 함\n",
    "        thread.start()"
   ]
  },
  {
   "cell_type": "code",
   "execution_count": 191,
   "metadata": {},
   "outputs": [],
   "source": [
    "from kafka import KafkaProducer\n",
    "import json\n",
    "from datetime import datetime\n",
    "producer = KafkaProducer(acks=0, bootstrap_servers=['192.168.99.11:9092', '127.0.0.1:9092'])\n",
    "# producer = KafkaProducer(acks=0, bootstrap_servers=['192.168.99.11:9092'])\n"
   ]
  },
  {
   "cell_type": "code",
   "execution_count": 202,
   "metadata": {},
   "outputs": [
    {
     "data": {
      "text/plain": [
       "<kafka.producer.future.FutureRecordMetadata at 0x286d4ff4550>"
      ]
     },
     "execution_count": 202,
     "metadata": {},
     "output_type": "execute_result"
    }
   ],
   "source": [
    "send_test = {\n",
    "    'value':'hello',\n",
    "    'time':str(datetime.now())\n",
    "}\n",
    "\n",
    "json_data = json.dumps(send_test)\n",
    "producer.send('test_producer', json_data.encode())"
   ]
  },
  {
   "cell_type": "code",
   "execution_count": 190,
   "metadata": {},
   "outputs": [],
   "source": [
    "producer.close()"
   ]
  },
  {
   "cell_type": "code",
   "execution_count": 2,
   "metadata": {},
   "outputs": [
    {
     "name": "stdout",
     "output_type": "stream",
     "text": [
      "123\n"
     ]
    }
   ],
   "source": [
    "a = 1\n",
    "b = 2\n",
    "c = 3\n",
    "d = 'abc'\n",
    "data = {}\n",
    "data[(a, b, c, d)] = 123\n",
    "print(data[(a, b, c, 'abc')])"
   ]
  },
  {
   "cell_type": "code",
   "execution_count": 2,
   "metadata": {},
   "outputs": [
    {
     "ename": "KeyError",
     "evalue": "(1, 2, 3, 'b')",
     "output_type": "error",
     "traceback": [
      "\u001b[1;31m---------------------------------------------------------------------------\u001b[0m",
      "\u001b[1;31mKeyError\u001b[0m                                  Traceback (most recent call last)",
      "Cell \u001b[1;32mIn[2], line 3\u001b[0m\n\u001b[0;32m      1\u001b[0m a \u001b[38;5;241m=\u001b[39m {}\n\u001b[0;32m      2\u001b[0m a[(\u001b[38;5;241m1\u001b[39m, \u001b[38;5;241m2\u001b[39m, \u001b[38;5;241m3\u001b[39m,\u001b[38;5;124m'\u001b[39m\u001b[38;5;124ma\u001b[39m\u001b[38;5;124m'\u001b[39m)] \u001b[38;5;241m=\u001b[39m \u001b[38;5;124m'\u001b[39m\u001b[38;5;124mabc\u001b[39m\u001b[38;5;124m'\u001b[39m\n\u001b[1;32m----> 3\u001b[0m b \u001b[38;5;241m=\u001b[39m \u001b[43ma\u001b[49m\u001b[43m[\u001b[49m\u001b[43m(\u001b[49m\u001b[38;5;241;43m1\u001b[39;49m\u001b[43m,\u001b[49m\u001b[43m \u001b[49m\u001b[38;5;241;43m2\u001b[39;49m\u001b[43m,\u001b[49m\u001b[43m \u001b[49m\u001b[38;5;241;43m3\u001b[39;49m\u001b[43m,\u001b[49m\u001b[43m \u001b[49m\u001b[38;5;124;43m'\u001b[39;49m\u001b[38;5;124;43mb\u001b[39;49m\u001b[38;5;124;43m'\u001b[39;49m\u001b[43m)\u001b[49m\u001b[43m]\u001b[49m\n\u001b[0;32m      4\u001b[0m \u001b[38;5;28mprint\u001b[39m(b)\n",
      "\u001b[1;31mKeyError\u001b[0m: (1, 2, 3, 'b')"
     ]
    }
   ],
   "source": [
    "a = {}\n",
    "a[(1, 2, 3,'a')] = 'abc'\n",
    "b = a[(1, 2, 3, 'b')]\n",
    "print(b)"
   ]
  },
  {
   "cell_type": "code",
   "execution_count": 1,
   "metadata": {},
   "outputs": [
    {
     "ename": "KeyError",
     "evalue": "'a'",
     "output_type": "error",
     "traceback": [
      "\u001b[1;31m---------------------------------------------------------------------------\u001b[0m",
      "\u001b[1;31mKeyError\u001b[0m                                  Traceback (most recent call last)",
      "Cell \u001b[1;32mIn[1], line 2\u001b[0m\n\u001b[0;32m      1\u001b[0m a \u001b[38;5;241m=\u001b[39m {}\n\u001b[1;32m----> 2\u001b[0m \u001b[43ma\u001b[49m\u001b[43m[\u001b[49m\u001b[38;5;124;43m'\u001b[39;49m\u001b[38;5;124;43ma\u001b[39;49m\u001b[38;5;124;43m'\u001b[39;49m\u001b[43m]\u001b[49m[\u001b[38;5;241m1\u001b[39m][\u001b[38;5;241m2\u001b[39m] \u001b[38;5;241m=\u001b[39m \u001b[38;5;124m'\u001b[39m\u001b[38;5;124mabc\u001b[39m\u001b[38;5;124m'\u001b[39m\n\u001b[0;32m      3\u001b[0m \u001b[38;5;28mprint\u001b[39m(a[\u001b[38;5;124m'\u001b[39m\u001b[38;5;124ma\u001b[39m\u001b[38;5;124m'\u001b[39m][\u001b[38;5;241m1\u001b[39m][\u001b[38;5;241m2\u001b[39m])\n",
      "\u001b[1;31mKeyError\u001b[0m: 'a'"
     ]
    }
   ],
   "source": [
    "a = {}\n",
    "a['a'][1][2] = 'abc'\n",
    "print(a['a'][1][2])"
   ]
  },
  {
   "cell_type": "code",
   "execution_count": 3,
   "metadata": {},
   "outputs": [
    {
     "ename": "KeyError",
     "evalue": "'b'",
     "output_type": "error",
     "traceback": [
      "\u001b[1;31m---------------------------------------------------------------------------\u001b[0m",
      "\u001b[1;31mKeyError\u001b[0m                                  Traceback (most recent call last)",
      "Cell \u001b[1;32mIn[3], line 2\u001b[0m\n\u001b[0;32m      1\u001b[0m a[\u001b[38;5;124m'\u001b[39m\u001b[38;5;124ma\u001b[39m\u001b[38;5;124m'\u001b[39m] \u001b[38;5;241m=\u001b[39m {}\n\u001b[1;32m----> 2\u001b[0m \u001b[43ma\u001b[49m\u001b[43m[\u001b[49m\u001b[38;5;124;43m'\u001b[39;49m\u001b[38;5;124;43ma\u001b[39;49m\u001b[38;5;124;43m'\u001b[39;49m\u001b[43m]\u001b[49m\u001b[43m[\u001b[49m\u001b[38;5;124;43m'\u001b[39;49m\u001b[38;5;124;43mb\u001b[39;49m\u001b[38;5;124;43m'\u001b[39;49m\u001b[43m]\u001b[49m[\u001b[38;5;124m'\u001b[39m\u001b[38;5;124mc\u001b[39m\u001b[38;5;124m'\u001b[39m] \u001b[38;5;241m=\u001b[39m \u001b[38;5;124m'\u001b[39m\u001b[38;5;124mabc\u001b[39m\u001b[38;5;124m'\u001b[39m\n\u001b[0;32m      3\u001b[0m \u001b[38;5;28mprint\u001b[39m(a[\u001b[38;5;124m'\u001b[39m\u001b[38;5;124ma\u001b[39m\u001b[38;5;124m'\u001b[39m][\u001b[38;5;124m'\u001b[39m\u001b[38;5;124mb\u001b[39m\u001b[38;5;124m'\u001b[39m][\u001b[38;5;124m'\u001b[39m\u001b[38;5;124mc\u001b[39m\u001b[38;5;124m'\u001b[39m])\n",
      "\u001b[1;31mKeyError\u001b[0m: 'b'"
     ]
    }
   ],
   "source": [
    "a['a'] = {}\n",
    "a['a']['b']['c'] = 'abc'\n",
    "print(a['a']['b']['c'])"
   ]
  },
  {
   "cell_type": "code",
   "execution_count": 4,
   "metadata": {},
   "outputs": [
    {
     "name": "stdout",
     "output_type": "stream",
     "text": [
      "1\n"
     ]
    }
   ],
   "source": [
    "a['a'] = {}\n",
    "a['a']['b'] = 1\n",
    "print(a['a']['b'])"
   ]
  },
  {
   "cell_type": "code",
   "execution_count": 5,
   "metadata": {},
   "outputs": [
    {
     "name": "stdout",
     "output_type": "stream",
     "text": [
      "1\n"
     ]
    }
   ],
   "source": [
    "a['a'] = {}\n",
    "a['a']['b'] = {}\n",
    "a['a']['b']['c'] = 1\n",
    "print(a['a']['b']['c'])"
   ]
  },
  {
   "cell_type": "code",
   "execution_count": 1,
   "metadata": {},
   "outputs": [
    {
     "name": "stdout",
     "output_type": "stream",
     "text": [
      "2\n"
     ]
    }
   ],
   "source": [
    "a = 0\n",
    "try:\n",
    "    try:\n",
    "        a = 1\n",
    "        raise\n",
    "    except Exception as e:\n",
    "        a = 2\n",
    "except Exception as e:\n",
    "    a = 3\n",
    "print(a)\n"
   ]
  },
  {
   "cell_type": "code",
   "execution_count": 4,
   "metadata": {},
   "outputs": [
    {
     "name": "stdout",
     "output_type": "stream",
     "text": [
      "3\n"
     ]
    }
   ],
   "source": [
    "a = 0\n",
    "try:\n",
    "    try:\n",
    "        a = 1\n",
    "        raise\n",
    "    except Exception as e:\n",
    "        a = 2\n",
    "        raise\n",
    "except Exception as e:\n",
    "    a = 3\n",
    "print(a)\n"
   ]
  },
  {
   "cell_type": "code",
   "execution_count": 10,
   "metadata": {},
   "outputs": [
    {
     "name": "stdout",
     "output_type": "stream",
     "text": [
      "[1, 2, 3]\n"
     ]
    }
   ],
   "source": [
    "import pandas as pd\n",
    "a = pd.DataFrame()\n",
    "a['b'] = {\n",
    "    'c':[1, 2, 3],\n",
    "    'd':2\n",
    "}\n",
    "# print(a)\n",
    "\n",
    "b = pd.DataFrame()\n",
    "b['e'] = {\n",
    "    'f':'c',\n",
    "    'g':'d'\n",
    "}\n",
    "# print(b)\n",
    "\n",
    "c = pd.DataFrame()\n",
    "c = a['b'][b['e']['f']]\n",
    "print(c)\n",
    "\n",
    "# c.rename(columns=)"
   ]
  },
  {
   "cell_type": "code",
   "execution_count": 16,
   "metadata": {},
   "outputs": [
    {
     "ename": "NameError",
     "evalue": "name 'qweqweqwe' is not defined",
     "output_type": "error",
     "traceback": [
      "\u001b[1;31m---------------------------------------------------------------------------\u001b[0m",
      "\u001b[1;31mNameError\u001b[0m                                 Traceback (most recent call last)",
      "Cell \u001b[1;32mIn[16], line 1\u001b[0m\n\u001b[1;32m----> 1\u001b[0m \u001b[43mqweqweqwe\u001b[49m\n\u001b[0;32m      2\u001b[0m asqwed \u001b[38;5;241m=\u001b[39m zxcvas \u001b[38;5;241m+\u001b[39m qwe12\n",
      "\u001b[1;31mNameError\u001b[0m: name 'qweqweqwe' is not defined"
     ]
    }
   ],
   "source": [
    "qweqweqwe\n",
    "asqwed = zxcvas + qwe12"
   ]
  }
 ],
 "metadata": {
  "kernelspec": {
   "display_name": "jclee",
   "language": "python",
   "name": "python3"
  },
  "language_info": {
   "codemirror_mode": {
    "name": "ipython",
    "version": 3
   },
   "file_extension": ".py",
   "mimetype": "text/x-python",
   "name": "python",
   "nbconvert_exporter": "python",
   "pygments_lexer": "ipython3",
   "version": "3.10.13"
  }
 },
 "nbformat": 4,
 "nbformat_minor": 2
}
