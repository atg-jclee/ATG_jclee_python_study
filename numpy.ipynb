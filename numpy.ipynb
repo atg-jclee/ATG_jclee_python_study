{
 "cells": [
  {
   "cell_type": "code",
   "execution_count": 1,
   "metadata": {},
   "outputs": [],
   "source": [
    "import numpy as np"
   ]
  },
  {
   "cell_type": "code",
   "execution_count": 9,
   "metadata": {},
   "outputs": [
    {
     "name": "stdout",
     "output_type": "stream",
     "text": [
      "[1 2 3 4 5]\n",
      "---------------\n",
      "<class 'numpy.ndarray'>\n",
      "---------------\n",
      "1\n",
      "---------------\n",
      "(5,)\n"
     ]
    }
   ],
   "source": [
    "vec = np.array([1, 2, 3, 4, 5])\n",
    "print(vec)\n",
    "print('-'*15)\n",
    "\n",
    "print(type(vec))\n",
    "print('-'*15)\n",
    "\n",
    "print(vec.ndim) # 축의 개수\n",
    "print('-'*15)\n",
    "\n",
    "print(vec.shape) # 크기"
   ]
  },
  {
   "cell_type": "code",
   "execution_count": 10,
   "metadata": {},
   "outputs": [
    {
     "name": "stdout",
     "output_type": "stream",
     "text": [
      "[[10 20 30]\n",
      " [60 70 80]]\n",
      "---------------\n",
      "<class 'numpy.ndarray'>\n",
      "---------------\n",
      "2\n",
      "---------------\n",
      "(2, 3)\n"
     ]
    }
   ],
   "source": [
    "mat = np.array([[10, 20, 30], [60, 70, 80]])\n",
    "print(mat)\n",
    "print('-'*15)\n",
    "\n",
    "print(type(mat))\n",
    "print('-'*15)\n",
    "\n",
    "print(mat.ndim) # 축의 개수\n",
    "print('-'*15)\n",
    "\n",
    "print(mat.shape) # 크기"
   ]
  },
  {
   "cell_type": "code",
   "execution_count": 11,
   "metadata": {},
   "outputs": [
    {
     "name": "stdout",
     "output_type": "stream",
     "text": [
      "[[0. 0. 0.]\n",
      " [0. 0. 0.]]\n",
      "---------------\n",
      "[[1. 1. 1.]\n",
      " [1. 1. 1.]]\n",
      "---------------\n",
      "[[7 7]\n",
      " [7 7]]\n",
      "---------------\n",
      "[[1. 0. 0.]\n",
      " [0. 1. 0.]\n",
      " [0. 0. 1.]]\n",
      "---------------\n",
      "[[0.70468419 0.64655987]\n",
      " [0.38069922 0.09351036]]\n"
     ]
    }
   ],
   "source": [
    "mat = np.zeros((2,3))\n",
    "print(mat)\n",
    "print('-'*15)\n",
    "\n",
    "mat = np.ones((2,3))\n",
    "print(mat)\n",
    "print('-'*15)\n",
    "\n",
    "mat = np.full((2,2), 7)\n",
    "print(mat)\n",
    "print('-'*15)\n",
    "\n",
    "mat = np.eye(3)\n",
    "print(mat)\n",
    "print('-'*15)\n",
    "\n",
    "mat = np.random.random((2,2))\n",
    "print(mat)"
   ]
  },
  {
   "cell_type": "code",
   "execution_count": 13,
   "metadata": {},
   "outputs": [
    {
     "name": "stdout",
     "output_type": "stream",
     "text": [
      "[0 1 2 3 4 5 6 7 8 9]\n",
      "---------------\n",
      "[1 3 5 7 9]\n"
     ]
    }
   ],
   "source": [
    "vec = np.arange(10)\n",
    "print(vec)\n",
    "print('-'*15)\n",
    "\n",
    "n = 2\n",
    "vec = np.arange(1, 10, n)\n",
    "print(vec)"
   ]
  },
  {
   "cell_type": "code",
   "execution_count": 14,
   "metadata": {},
   "outputs": [
    {
     "name": "stdout",
     "output_type": "stream",
     "text": [
      "[[ 0  1  2  3  4  5]\n",
      " [ 6  7  8  9 10 11]\n",
      " [12 13 14 15 16 17]\n",
      " [18 19 20 21 22 23]\n",
      " [24 25 26 27 28 29]]\n"
     ]
    }
   ],
   "source": [
    "mat = np.array(np.arange(30)).reshape((5,6))\n",
    "print(mat)"
   ]
  },
  {
   "cell_type": "code",
   "execution_count": 16,
   "metadata": {},
   "outputs": [
    {
     "name": "stdout",
     "output_type": "stream",
     "text": [
      "[[1 2 3]\n",
      " [4 5 6]]\n",
      "---------------\n",
      "[1 2 3]\n",
      "---------------\n",
      "[2 5]\n"
     ]
    }
   ],
   "source": [
    "mat = np.array([[1, 2, 3], [4, 5, 6]])\n",
    "print(mat)\n",
    "print('-'*15)\n",
    "\n",
    "print(mat[0, :])\n",
    "print('-'*15)\n",
    "\n",
    "print(mat[:, 1])"
   ]
  },
  {
   "cell_type": "code",
   "execution_count": 22,
   "metadata": {},
   "outputs": [
    {
     "name": "stdout",
     "output_type": "stream",
     "text": [
      "[[1 2]\n",
      " [4 5]\n",
      " [7 8]]\n",
      "---------------\n",
      "4\n",
      "---------------\n",
      "[7 5]\n",
      "7\n",
      "5\n"
     ]
    }
   ],
   "source": [
    "mat = np.array([[1, 2], [4, 5], [7, 8]])\n",
    "print(mat)\n",
    "print('-'*15)\n",
    "\n",
    "print(mat[1, 0])\n",
    "print('-'*15)\n",
    "\n",
    "print(mat[[2, 1], [0,1]]) # [2,0], [1,1]\n",
    "print(mat[2, 0])\n",
    "print(mat[1, 1])"
   ]
  },
  {
   "cell_type": "code",
   "execution_count": 27,
   "metadata": {},
   "outputs": [
    {
     "name": "stdout",
     "output_type": "stream",
     "text": [
      "[5 7 9]\n",
      "---------------\n",
      "[-3 -3 -3]\n",
      "---------------\n",
      "[ 4 10 18]\n",
      "---------------\n",
      "[0.25 0.4  0.5 ]\n"
     ]
    }
   ],
   "source": [
    "x = np.array([1, 2, 3])\n",
    "y = np.array([4, 5, 6])\n",
    "print(x + y)\n",
    "print('-'*15)\n",
    "\n",
    "print(x - y)\n",
    "print('-'*15)\n",
    "\n",
    "print(x * y)\n",
    "print('-'*15)\n",
    "\n",
    "print(x / y)"
   ]
  }
 ],
 "metadata": {
  "kernelspec": {
   "display_name": "jclee",
   "language": "python",
   "name": "python3"
  },
  "language_info": {
   "codemirror_mode": {
    "name": "ipython",
    "version": 3
   },
   "file_extension": ".py",
   "mimetype": "text/x-python",
   "name": "python",
   "nbconvert_exporter": "python",
   "pygments_lexer": "ipython3",
   "version": "3.10.13"
  }
 },
 "nbformat": 4,
 "nbformat_minor": 2
}
