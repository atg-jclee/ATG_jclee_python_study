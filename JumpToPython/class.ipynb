{
 "cells": [
  {
   "cell_type": "code",
   "execution_count": null,
   "metadata": {},
   "outputs": [],
   "source": [
    "class FourCal:\n",
    "    def __init__(self):\n",
    "        self.num1 = 0\n",
    "        self.num2 = 0\n",
    "    \n",
    "    def setdata(num1, num2):\n",
    "        self.num1 = num1\n",
    "        self.num2 = num2\n",
    "    \n",
    "    def add():\n",
    "        print(self.num1 + self.num2)\n",
    "        \n",
    "    def sub():\n",
    "        print(self.num1 - self.num2)\n",
    "        \n",
    "    def mul():\n",
    "        print(self.num1 * self.num2)\n",
    "        \n",
    "    def div():\n",
    "        print(self.num1 / self.num2)\n",
    "    \n",
    "    "
   ]
  }
 ],
 "metadata": {
  "kernelspec": {
   "display_name": "jclee",
   "language": "python",
   "name": "python3"
  },
  "language_info": {
   "name": "python",
   "version": "3.10.12"
  }
 },
 "nbformat": 4,
 "nbformat_minor": 2
}
